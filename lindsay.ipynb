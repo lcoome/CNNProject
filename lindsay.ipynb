{
 "cells": [
  {
   "cell_type": "code",
   "execution_count": 6,
   "metadata": {},
   "outputs": [],
   "source": [
    "import os\n",
    "import pandas as pd\n",
    "import numpy as np\n",
    "import re\n",
    "\n",
    "import requests\n",
    "import json\n",
    "\n",
    "from plotnine import *"
   ]
  },
  {
   "cell_type": "code",
   "execution_count": 7,
   "metadata": {},
   "outputs": [],
   "source": [
    "# set working directory\n",
    "path = '/Users/lindsaycoome/Documents/GitHub/CNNProject' "
   ]
  },
  {
   "cell_type": "markdown",
   "metadata": {},
   "source": [
    "# Search cnn news and return articles"
   ]
  },
  {
   "cell_type": "code",
   "execution_count": 8,
   "metadata": {},
   "outputs": [],
   "source": [
    "# we are going to begin searching cnn for X (e.g. coronavirus)\n",
    "# we will get information on how many articles the search returns and the articles themselves\n",
    "def update_cnn_article(search_term):\n",
    "\n",
    "    # first read the meta dataframe that stores all data for articles already retrieved\n",
    "    # if the meta file doens't exist, (i.e. we are searching for the first time), create an empty one\n",
    "    # the following keys are the headings for the dataframe\n",
    "    keys = ['_id','type','sourceId','url','firstPublishDate','lastPublishDate','lastModifiedDate','path','source','location','byLine','headline','body','section','mappedSection', 'thumbnail', 'livestorySourceId']    \n",
    "    file = 'meta_' + search_term + '.csv'\n",
    "    if not os.path.exists(path + file):\n",
    "        meta = pd.DataFrame(columns = keys)\n",
    "        meta.to_csv(path + file, index = False)\n",
    "        # store all articles ids already collected, now it's empty\n",
    "        existing_ids = meta['_id'].tolist()\n",
    "\n",
    "    else:\n",
    "        # read the meta data\n",
    "        meta = pd.read_csv(path + file)\n",
    "        # store all articles ids already collected\n",
    "        existing_ids = meta['_id'].tolist()\n",
    "\n",
    "    # here we initialize the search\n",
    "    start = len(existing_ids)\n",
    "\n",
    "    # total_count = total number of news articles returned for a search inquery\n",
    "    # we don't how many yet, just setting it to be larger than start to initialize \n",
    "    total_count = start+1 \n",
    "\n",
    "\n",
    "    # as long as the number of news articles already retrieved is less total available\n",
    "    # we keep retrieving\n",
    "    while start < total_count:\n",
    "\n",
    "        # retrieve news articles\n",
    "        # using the \"retrieve_cnn_article\" function defined below\n",
    "        start, total_count, article_list = retrieve_cnn_article(search_term, start = start)\n",
    "\n",
    "        # print progress\n",
    "        print(str(start)+'/'+str(total_count))\n",
    "\n",
    "        # read the meta data again to update currently collected articles\n",
    "        meta = pd.read_csv(path+file)\n",
    "        # store all articles ids already collected again\n",
    "        existing_ids = meta['_id'].tolist()\n",
    "\n",
    "        # create an empty list to store new articles \n",
    "        new_article = []\n",
    "\n",
    "        # article_list['result'] contains actual list of articles retrieved\n",
    "        # loop to save each article retrieved \n",
    "        for article in article_list['result']:\n",
    "\n",
    "            # double check if the new article has not already been collected\n",
    "            if article['_id'] not in existing_ids:\n",
    "\n",
    "                # dump the new article to the new list  \n",
    "                new_article.append(article)\n",
    "\n",
    "                # save the full text of articles to a txt file, name by the '_id' cnn assigned,\n",
    "                # in a folder called article_txt\n",
    "                # if the folder doesn't exsit, create one\n",
    "                if not os.path.exists(path+'article_txt/'):\n",
    "                    os.makedirs(path+'article_txt/')\n",
    "\n",
    "                # save full text as txt file\n",
    "                with open(path+'article_txt/'+article['_id']+'.txt', \"w\",encoding=\"utf-8\") as text_file:\n",
    "                    text_file.write(article['body'])\n",
    "\n",
    "        # if the new_article list is not empty, we need to update the meta dataframe\n",
    "        if new_article:\n",
    "            # convert the list into a dataframe\n",
    "            df = pd.DataFrame(new_article)\n",
    "\n",
    "            # fill in missing columns and order columns\n",
    "            for key in keys:\n",
    "                if key not in df.columns:\n",
    "                    df[key] = ''\n",
    "            df = df[keys]\n",
    "\n",
    "            # de-dup df\n",
    "            df = df.drop_duplicates('_id')\n",
    "\n",
    "            # shorten text to first 100 words of the full text\n",
    "            df['body'] = df['body'].apply(lambda x: ' '.join(x.split()[:100]))\n",
    "\n",
    "            # append the new df to the existing meta\n",
    "            # save to local csv file so it's updated for the next loop\n",
    "            meta = pd.concat([meta, df])\n",
    "            meta.to_csv(path + file, index = False)"
   ]
  },
  {
   "cell_type": "code",
   "execution_count": 9,
   "metadata": {},
   "outputs": [],
   "source": [
    "# define a function to retrieve cnn news articles by searching a keyword\n",
    "def retrieve_cnn_article(search_term, start, size = 100, size_step = 20):\n",
    "    # this is the cnn api to retrieve news articles through search\n",
    "    # from the latest articles to the oldest\n",
    "    url = \"https://search.api.cnn.io/content?q=\"+ search_term + \"&size=\" + str(size) + \"&from=\" + str(start) + '&sort=newest' + \"&category=us,politics,world,opinion,health\"\n",
    "\n",
    "    # the api call returns all results of a search inquery (a list of json objects)\n",
    "    article_list = requests.get(url = url) \n",
    "    article_list = article_list.json()\n",
    "\n",
    "    # if error, decrease number of news to retrieve and run again\n",
    "    if 'errorType' in article_list:\n",
    "        # size_step = decrease by X\n",
    "        # currently set to decrease 20 at a time\n",
    "        # i.e, the second try will retrieve 80 articles\n",
    "        size -= size_step \n",
    "\n",
    "    # if the call ran successfully, i.e. no error\n",
    "    # return the results\n",
    "\n",
    "    else:\n",
    "        # return some meta data\n",
    "        total_count = article_list['meta']['of']\n",
    "        current_count = article_list['meta']['end']\n",
    "\n",
    "        return current_count, total_count, article_list"
   ]
  },
  {
   "cell_type": "markdown",
   "metadata": {},
   "source": [
    "### start searching cnn.."
   ]
  },
  {
   "cell_type": "code",
   "execution_count": 10,
   "metadata": {},
   "outputs": [
    {
     "name": "stdout",
     "output_type": "stream",
     "text": [
      "coronavirus\n",
      "7674/7674\n",
      "covid-19\n",
      "2100/3670\n",
      "2200/3670\n",
      "2300/3670\n",
      "2400/3670\n",
      "2500/3670\n",
      "2600/3670\n",
      "2700/3670\n",
      "2800/3670\n",
      "2900/3670\n",
      "3000/3670\n",
      "3100/3670\n",
      "3200/3670\n",
      "3300/3670\n",
      "3400/3670\n",
      "3500/3670\n",
      "3600/3670\n",
      "3670/3670\n",
      "black lives matter\n",
      "100/1761\n",
      "200/1761\n",
      "300/1761\n",
      "400/1761\n",
      "500/1761\n",
      "600/1761\n",
      "700/1761\n",
      "800/1761\n",
      "900/1761\n",
      "1000/1761\n",
      "1100/1761\n",
      "1200/1761\n",
      "1300/1761\n",
      "1400/1761\n",
      "1500/1761\n",
      "1600/1761\n",
      "1700/1761\n",
      "1761/1761\n",
      "george floyd\n",
      "100/841\n",
      "200/841\n",
      "300/841\n",
      "400/841\n",
      "500/841\n",
      "600/841\n",
      "700/841\n",
      "800/841\n",
      "841/841\n"
     ]
    }
   ],
   "source": [
    "# you could add more keywords related to each event if you wish\n",
    "keywords_covid = ['coronavirus','covid-19']\n",
    "keywords_blm = ['black lives matter','george floyd']\n",
    "\n",
    "for keyword in keywords_covid:\n",
    "    print(keyword)\n",
    "    update_cnn_article(keyword)\n",
    "    \n",
    "for keyword in keywords_blm:\n",
    "    print(keyword)\n",
    "    update_cnn_article(keyword)"
   ]
  },
  {
   "cell_type": "markdown",
   "metadata": {},
   "source": [
    "# Clean data"
   ]
  },
  {
   "cell_type": "code",
   "execution_count": 12,
   "metadata": {},
   "outputs": [],
   "source": [
    "keywords_covid = ['coronavirus','covid-19']\n",
    "keywords_blm = ['black lives matter','george floyd']\n",
    "\n",
    "# read in all the articles searched using virus related keywords\n",
    "meta_covid = pd.concat([pd.read_csv(path + 'meta_' + keyword + '.csv') for keyword in keywords_covid])\n",
    "\n",
    "# read in all the articles searched using blm related keywords\n",
    "meta_blm = pd.concat([pd.read_csv(path + 'meta_' + keyword + '.csv') for keyword in keywords_blm])"
   ]
  },
  {
   "cell_type": "code",
   "execution_count": 13,
   "metadata": {},
   "outputs": [],
   "source": [
    "# remove duplicated _ids in each dataframe\n",
    "meta_covid = meta_covid.drop_duplicates('_id')\n",
    "meta_blm = meta_blm.drop_duplicates('_id')\n",
    "\n",
    "# convert firstPublishDate to date format\n",
    "meta_covid['firstPublishDate'] = pd.to_datetime(meta_covid['firstPublishDate'])\n",
    "meta_blm['firstPublishDate'] = pd.to_datetime(meta_blm['firstPublishDate'])\n",
    "\n",
    "# remove stories published before 2020\n",
    "meta_covid = meta_covid[meta_covid['firstPublishDate'].dt.year>2019]\n",
    "meta_blm = meta_blm[meta_blm['firstPublishDate'].dt.year>2019]\n",
    "\n",
    "# add a column seperating covid vs blm, then combine the two datasets\n",
    "meta_covid['event'] = 'COVID Articles'\n",
    "meta_blm['event'] = 'BLM Articles'\n",
    "\n",
    "meta = pd.concat([meta_covid, meta_blm])"
   ]
  },
  {
   "cell_type": "markdown",
   "metadata": {},
   "source": [
    "# Plot"
   ]
  },
  {
   "cell_type": "code",
   "execution_count": 22,
   "metadata": {},
   "outputs": [
    {
     "data": {
      "image/png": "[encoded data removed]",
      "text/plain": [
       "<Figure size 640x480 with 1 Axes>"
      ]
     },
     "metadata": {},
     "output_type": "display_data"
    },
    {
     "data": {
      "text/plain": [
       "<ggplot: (8790852086773)>"
      ]
     },
     "execution_count": 22,
     "metadata": {},
     "output_type": "execute_result"
    }
   ],
   "source": [
    "# plot headlines containing the word protest\n",
    "\n",
    "df = meta\n",
    "# find headlines with the word protest\n",
    "df['has_word'] = meta['headline'].str.lower().str.contains('protest')\n",
    "\n",
    "# add the week in which the article is published\n",
    "df['week'] = df['firstPublishDate'].dt.week\n",
    "\n",
    "# aggregate by week and event (blm vs covid)\n",
    "df = df.groupby(['event','week'])['has_word'].agg(n ='sum')\n",
    "\n",
    "# fill in weeks that have no headlines with 'protest' with '0'\n",
    "df = df.unstack(fill_value=0).stack().reset_index()\n",
    "\n",
    "# plot \n",
    "ggplot(aes(x = 'week', y = 'n', color = 'event'), data = df)+\\\n",
    "    geom_line(size = 2) +\\\n",
    "    geom_point(size = 5) +\\\n",
    "    theme_bw() +\\\n",
    "    ggtitle(\"Number of Articles With the Word 'Protest'\") +\\\n",
    "    scale_x_continuous(breaks = range(1,25,5), labels = ['Jan','Feb','Mar','Apr','May']) +\\\n",
    "    labs(color = 'Articles') +\\\n",
    "    xlab('Month') +\\\n",
    "    ylab('Count')\n"
   ]
  },
  {
   "cell_type": "code",
   "execution_count": null,
   "metadata": {},
   "outputs": [],
   "source": []
  }
 ],
 "metadata": {
  "kernelspec": {
   "display_name": "Python 3",
   "language": "python",
   "name": "python3"
  },
  "language_info": {
   "codemirror_mode": {
    "name": "ipython",
    "version": 3
   },
   "file_extension": ".py",
   "mimetype": "text/x-python",
   "name": "python",
   "nbconvert_exporter": "python",
   "pygments_lexer": "ipython3",
   "version": "3.7.6"
  }
 },
 "nbformat": 4,
 "nbformat_minor": 4
}
